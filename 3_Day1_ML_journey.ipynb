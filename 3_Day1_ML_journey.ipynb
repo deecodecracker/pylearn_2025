{
  "nbformat": 4,
  "nbformat_minor": 0,
  "metadata": {
    "colab": {
      "provenance": [],
      "include_colab_link": true
    },
    "kernelspec": {
      "name": "python3",
      "display_name": "Python 3"
    },
    "language_info": {
      "name": "python"
    }
  },
  "cells": [
    {
      "cell_type": "markdown",
      "metadata": {
        "id": "view-in-github",
        "colab_type": "text"
      },
      "source": [
        "<a href=\"https://colab.research.google.com/github/deecodecracker/pylearn_2025/blob/main/3_Day1_ML_journey.ipynb\" target=\"_parent\"><img src=\"https://colab.research.google.com/assets/colab-badge.svg\" alt=\"Open In Colab\"/></a>"
      ]
    },
    {
      "cell_type": "code",
      "execution_count": null,
      "metadata": {
        "colab": {
          "base_uri": "https://localhost:8080/"
        },
        "id": "HpmbKqI7jltH",
        "outputId": "c6d67305-cd10-4a18-8503-9dc04065706d"
      },
      "outputs": [
        {
          "output_type": "stream",
          "name": "stdout",
          "text": [
            "hello world\n"
          ]
        }
      ],
      "source": [
        "print(\"hello world\")"
      ]
    },
    {
      "cell_type": "code",
      "source": [
        "print(\"This is my first python program\")"
      ],
      "metadata": {
        "id": "34ZbDQBAxLWX",
        "outputId": "d33aac21-9bb9-4ea4-c275-5a8465af21da",
        "colab": {
          "base_uri": "https://localhost:8080/"
        }
      },
      "execution_count": null,
      "outputs": [
        {
          "output_type": "stream",
          "name": "stdout",
          "text": [
            "This is my first python program\n"
          ]
        }
      ]
    },
    {
      "cell_type": "code",
      "source": [
        "print(\"new line of code\")"
      ],
      "metadata": {
        "id": "jDhmDT24fwjy",
        "outputId": "2fd74369-97d7-4cc1-d266-be1a9c357a84",
        "colab": {
          "base_uri": "https://localhost:8080/"
        }
      },
      "execution_count": 3,
      "outputs": [
        {
          "output_type": "stream",
          "name": "stdout",
          "text": [
            "new line of code\n"
          ]
        }
      ]
    }
  ]
}